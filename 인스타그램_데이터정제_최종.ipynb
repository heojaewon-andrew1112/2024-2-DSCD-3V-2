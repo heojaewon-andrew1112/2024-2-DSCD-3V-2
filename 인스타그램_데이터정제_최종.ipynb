{
 "cells": [
  {
   "cell_type": "code",
   "execution_count": 39,
   "id": "5624c9bc-b808-403a-9df2-d2c57c1a286f",
   "metadata": {},
   "outputs": [
    {
     "name": "stdout",
     "output_type": "stream",
     "text": [
      " '파리맛집' 파일불러오기 완료.\n"
     ]
    },
    {
     "name": "stderr",
     "output_type": "stream",
     "text": [
      "100%|████████████████████████████████████████████████████████████████████████████████| 500/500 [00:19<00:00, 26.15it/s]\n"
     ]
    },
    {
     "name": "stdout",
     "output_type": "stream",
     "text": [
      " '파리맛집_인스타그램_최종.csv' 파일로 저장 완료.\n",
      "\n",
      " '파리관광' 파일불러오기 완료.\n"
     ]
    },
    {
     "name": "stderr",
     "output_type": "stream",
     "text": [
      "100%|███████████████████████████████████████████████████████████████████████████████| 500/500 [00:04<00:00, 117.77it/s]\n"
     ]
    },
    {
     "name": "stdout",
     "output_type": "stream",
     "text": [
      " '파리관광_인스타그램_최종.csv' 파일로 저장 완료.\n",
      "\n",
      " '파리핫플' 파일불러오기 완료.\n"
     ]
    },
    {
     "name": "stderr",
     "output_type": "stream",
     "text": [
      "100%|███████████████████████████████████████████████████████████████████████████████| 500/500 [00:03<00:00, 136.99it/s]\n"
     ]
    },
    {
     "name": "stdout",
     "output_type": "stream",
     "text": [
      " '파리핫플_인스타그램_최종.csv' 파일로 저장 완료.\n",
      "\n",
      " '파리숙소' 파일불러오기 완료.\n"
     ]
    },
    {
     "name": "stderr",
     "output_type": "stream",
     "text": [
      "100%|████████████████████████████████████████████████████████████████████████████████| 500/500 [00:17<00:00, 27.79it/s]\n"
     ]
    },
    {
     "name": "stdout",
     "output_type": "stream",
     "text": [
      " '파리숙소_인스타그램_최종.csv' 파일로 저장 완료.\n",
      "\n",
      " '파리쇼핑' 파일불러오기 완료.\n"
     ]
    },
    {
     "name": "stderr",
     "output_type": "stream",
     "text": [
      "100%|████████████████████████████████████████████████████████████████████████████████| 500/500 [00:21<00:00, 23.64it/s]\n"
     ]
    },
    {
     "name": "stdout",
     "output_type": "stream",
     "text": [
      " '파리쇼핑_인스타그램_최종.csv' 파일로 저장 완료.\n",
      "\n",
      " '파리여행' 파일불러오기 완료.\n"
     ]
    },
    {
     "name": "stderr",
     "output_type": "stream",
     "text": [
      "100%|████████████████████████████████████████████████████████████████████████████████| 500/500 [00:15<00:00, 33.02it/s]\n"
     ]
    },
    {
     "name": "stdout",
     "output_type": "stream",
     "text": [
      " '파리여행_인스타그램_최종.csv' 파일로 저장 완료.\n",
      "\n",
      " '오사카맛집' 파일불러오기 완료.\n"
     ]
    },
    {
     "name": "stderr",
     "output_type": "stream",
     "text": [
      "100%|████████████████████████████████████████████████████████████████████████████████| 500/500 [00:15<00:00, 33.17it/s]\n"
     ]
    },
    {
     "name": "stdout",
     "output_type": "stream",
     "text": [
      " '오사카맛집_인스타그램_최종.csv' 파일로 저장 완료.\n",
      "\n",
      " '오사카관광' 파일불러오기 완료.\n"
     ]
    },
    {
     "name": "stderr",
     "output_type": "stream",
     "text": [
      "100%|████████████████████████████████████████████████████████████████████████████████| 500/500 [06:44<00:00,  1.24it/s]\n"
     ]
    },
    {
     "name": "stdout",
     "output_type": "stream",
     "text": [
      " '오사카관광_인스타그램_최종.csv' 파일로 저장 완료.\n",
      "\n",
      " '오사카핫플' 파일불러오기 완료.\n"
     ]
    },
    {
     "name": "stderr",
     "output_type": "stream",
     "text": [
      "100%|████████████████████████████████████████████████████████████████████████████████| 500/500 [00:23<00:00, 21.19it/s]\n"
     ]
    },
    {
     "name": "stdout",
     "output_type": "stream",
     "text": [
      " '오사카핫플_인스타그램_최종.csv' 파일로 저장 완료.\n",
      "\n",
      " '오사카숙소' 파일불러오기 완료.\n"
     ]
    },
    {
     "name": "stderr",
     "output_type": "stream",
     "text": [
      "100%|████████████████████████████████████████████████████████████████████████████████| 500/500 [00:27<00:00, 17.96it/s]\n"
     ]
    },
    {
     "name": "stdout",
     "output_type": "stream",
     "text": [
      " '오사카숙소_인스타그램_최종.csv' 파일로 저장 완료.\n",
      "\n",
      " '오사카쇼핑' 파일불러오기 완료.\n"
     ]
    },
    {
     "name": "stderr",
     "output_type": "stream",
     "text": [
      "100%|████████████████████████████████████████████████████████████████████████████████| 500/500 [00:25<00:00, 19.66it/s]\n"
     ]
    },
    {
     "name": "stdout",
     "output_type": "stream",
     "text": [
      " '오사카쇼핑_인스타그램_최종.csv' 파일로 저장 완료.\n",
      "\n",
      " '오사카여행' 파일불러오기 완료.\n"
     ]
    },
    {
     "name": "stderr",
     "output_type": "stream",
     "text": [
      "100%|████████████████████████████████████████████████████████████████████████████████| 500/500 [00:17<00:00, 28.60it/s]\n"
     ]
    },
    {
     "name": "stdout",
     "output_type": "stream",
     "text": [
      " '오사카여행_인스타그램_최종.csv' 파일로 저장 완료.\n",
      "\n",
      " '방콕맛집' 파일불러오기 완료.\n"
     ]
    },
    {
     "name": "stderr",
     "output_type": "stream",
     "text": [
      "100%|████████████████████████████████████████████████████████████████████████████████| 500/500 [00:21<00:00, 23.54it/s]\n"
     ]
    },
    {
     "name": "stdout",
     "output_type": "stream",
     "text": [
      " '방콕맛집_인스타그램_최종.csv' 파일로 저장 완료.\n",
      "\n",
      " '방콕관광' 파일불러오기 완료.\n"
     ]
    },
    {
     "name": "stderr",
     "output_type": "stream",
     "text": [
      "100%|███████████████████████████████████████████████████████████████████████████████| 500/500 [00:02<00:00, 174.60it/s]\n"
     ]
    },
    {
     "name": "stdout",
     "output_type": "stream",
     "text": [
      " '방콕관광_인스타그램_최종.csv' 파일로 저장 완료.\n",
      "\n",
      " '방콕핫플' 파일불러오기 완료.\n"
     ]
    },
    {
     "name": "stderr",
     "output_type": "stream",
     "text": [
      "100%|████████████████████████████████████████████████████████████████████████████████| 500/500 [00:22<00:00, 22.27it/s]\n"
     ]
    },
    {
     "name": "stdout",
     "output_type": "stream",
     "text": [
      " '방콕핫플_인스타그램_최종.csv' 파일로 저장 완료.\n",
      "\n",
      " '방콕숙소' 파일불러오기 완료.\n"
     ]
    },
    {
     "name": "stderr",
     "output_type": "stream",
     "text": [
      "100%|████████████████████████████████████████████████████████████████████████████████| 500/500 [00:15<00:00, 32.25it/s]\n"
     ]
    },
    {
     "name": "stdout",
     "output_type": "stream",
     "text": [
      " '방콕숙소_인스타그램_최종.csv' 파일로 저장 완료.\n",
      "\n",
      " '방콕쇼핑' 파일불러오기 완료.\n"
     ]
    },
    {
     "name": "stderr",
     "output_type": "stream",
     "text": [
      "100%|████████████████████████████████████████████████████████████████████████████████| 500/500 [00:25<00:00, 19.67it/s]\n"
     ]
    },
    {
     "name": "stdout",
     "output_type": "stream",
     "text": [
      " '방콕쇼핑_인스타그램_최종.csv' 파일로 저장 완료.\n",
      "\n",
      " '방콕여행' 파일불러오기 완료.\n"
     ]
    },
    {
     "name": "stderr",
     "output_type": "stream",
     "text": [
      "100%|████████████████████████████████████████████████████████████████████████████████| 500/500 [00:15<00:00, 33.00it/s]\n"
     ]
    },
    {
     "name": "stdout",
     "output_type": "stream",
     "text": [
      " '방콕여행_인스타그램_최종.csv' 파일로 저장 완료.\n",
      "\n",
      " '뉴욕맛집' 파일불러오기 완료.\n"
     ]
    },
    {
     "name": "stderr",
     "output_type": "stream",
     "text": [
      "100%|████████████████████████████████████████████████████████████████████████████████| 500/500 [00:14<00:00, 33.83it/s]\n"
     ]
    },
    {
     "name": "stdout",
     "output_type": "stream",
     "text": [
      " '뉴욕맛집_인스타그램_최종.csv' 파일로 저장 완료.\n",
      "\n",
      " '뉴욕관광' 파일불러오기 완료.\n"
     ]
    },
    {
     "name": "stderr",
     "output_type": "stream",
     "text": [
      "100%|████████████████████████████████████████████████████████████████████████████████| 500/500 [00:12<00:00, 39.26it/s]\n"
     ]
    },
    {
     "name": "stdout",
     "output_type": "stream",
     "text": [
      " '뉴욕관광_인스타그램_최종.csv' 파일로 저장 완료.\n",
      "\n",
      " '뉴욕핫플' 파일불러오기 완료.\n"
     ]
    },
    {
     "name": "stderr",
     "output_type": "stream",
     "text": [
      "100%|████████████████████████████████████████████████████████████████████████████████| 500/500 [00:17<00:00, 28.20it/s]\n"
     ]
    },
    {
     "name": "stdout",
     "output_type": "stream",
     "text": [
      " '뉴욕핫플_인스타그램_최종.csv' 파일로 저장 완료.\n",
      "\n",
      " '뉴욕숙소' 파일불러오기 완료.\n"
     ]
    },
    {
     "name": "stderr",
     "output_type": "stream",
     "text": [
      "100%|████████████████████████████████████████████████████████████████████████████████| 500/500 [00:15<00:00, 32.63it/s]\n"
     ]
    },
    {
     "name": "stdout",
     "output_type": "stream",
     "text": [
      " '뉴욕숙소_인스타그램_최종.csv' 파일로 저장 완료.\n",
      "\n",
      " '뉴욕쇼핑' 파일불러오기 완료.\n"
     ]
    },
    {
     "name": "stderr",
     "output_type": "stream",
     "text": [
      "100%|████████████████████████████████████████████████████████████████████████████████| 500/500 [00:29<00:00, 16.82it/s]\n"
     ]
    },
    {
     "name": "stdout",
     "output_type": "stream",
     "text": [
      " '뉴욕쇼핑_인스타그램_최종.csv' 파일로 저장 완료.\n",
      "\n",
      " '뉴욕여행' 파일불러오기 완료.\n"
     ]
    },
    {
     "name": "stderr",
     "output_type": "stream",
     "text": [
      "100%|████████████████████████████████████████████████████████████████████████████████| 500/500 [00:16<00:00, 29.76it/s]"
     ]
    },
    {
     "name": "stdout",
     "output_type": "stream",
     "text": [
      " '뉴욕여행_인스타그램_최종.csv' 파일로 저장 완료.\n",
      "\n"
     ]
    },
    {
     "name": "stderr",
     "output_type": "stream",
     "text": [
      "\n"
     ]
    }
   ],
   "source": [
    "import re\n",
    "from konlpy.tag import Okt\n",
    "import pandas as pd\n",
    "import pandas as pd\n",
    "import numpy as np\n",
    "from sentence_transformers import SentenceTransformer, util\n",
    "\n",
    "# 불러올 파일들의 공통 부분과 도시 목록 정의\n",
    "cities = ['파리', '오사카', '방콕', '뉴욕']\n",
    "categories = ['맛집', '관광', '핫플', '숙소', '쇼핑', '여행']\n",
    "\n",
    "# Load SBERT model\n",
    "model = SentenceTransformer('paraphrase-multilingual-MiniLM-L12-v2')  # 다국어 지원\n",
    "\n",
    "# Konlpy의 Okt 객체 생성\n",
    "okt = Okt()\n",
    "\n",
    "# 모든 도시와 카테고리 파일을 한꺼번에 불러오는 코드\n",
    "for city in cities:\n",
    "    for category in categories:\n",
    "\n",
    "        # 조사나 접속사, 이모티콘 등을 제거하는 함수\n",
    "        def clean_korean_text(text):\n",
    "            if pd.isna(text):  # NaN 값일 경우 빈 문자열로 처리\n",
    "                return ''\n",
    "            \n",
    "            # 1. 이모티콘과 특수문자 제거 (정규 표현식 사용)\n",
    "            text = re.sub(r'[^\\w\\s]', '', text)  # 이모티콘, 특수 문자 제거\n",
    "            \n",
    "            # 2. 형태소 분석 후 조사, 접속사 제거\n",
    "            morphs = okt.pos(text, norm=True, stem=True)\n",
    "            \n",
    "            # 3. 조사와 접속사 필터링 (조사(Josa), 접속사(Conjunction) 태그 제외)\n",
    "            cleaned_text = ' '.join(word for word, tag in morphs if tag not in ['Josa', 'Conjunction', 'Adjective', 'Adverb', 'Eomi', 'Determiner', 'Exclamation', 'Suffix', 'Verb', 'KoreanParticle'])    \n",
    "        \n",
    "            return cleaned_text\n",
    "        \n",
    "        # 청킹 함수: 명사(Noun), 형용사(Adjective) 등을 추출해 묶는 방식\n",
    "        def chunk_korean_text(text):\n",
    "            english_words = re.findall(r'[a-zA-Z]+', text)\n",
    "            \n",
    "            morphs = okt.pos(text, norm=True, stem=True)\n",
    "            \n",
    "            filtered_words = [word for word, pos in morphs if pos in ['Noun', 'Alpha']]  # 명사와 영어 단어만 남김\n",
    "            \n",
    "            # 영어 단어 다시 추가\n",
    "            filtered_words.extend(english_words)\n",
    "            \n",
    "            return ' '.join(filtered_words)\n",
    "        \n",
    "        # Function to get embedding for a single text\n",
    "        def get_embedding(text):\n",
    "            return model.encode([text])[0]  # Returns the embedding as a numpy array\n",
    "        \n",
    "        # Cache to store embeddings of hashtags\n",
    "        embeddings_cache = {}\n",
    "        \n",
    "        # Function to get relevant hashtags for each post\n",
    "        def get_relevant_hashtags(tags):\n",
    "            if len(tags) == 0:\n",
    "                return []\n",
    "            \n",
    "            # For new hashtags, compute embeddings and store them in the cache\n",
    "            new_tags = [tag for tag in tags if tag not in embeddings_cache]\n",
    "            if new_tags:\n",
    "                new_embeddings = model.encode(new_tags)  # Batch encode new tags\n",
    "                embeddings_cache.update({new_tags[i]: new_embeddings[i] for i in range(len(new_tags))})\n",
    "            \n",
    "            # Use cached embeddings for all tags\n",
    "            tag_embeddings = [embeddings_cache[tag] for tag in tags]\n",
    "            \n",
    "            # Compute cosine similarity between the keyword and all tag embeddings\n",
    "            similarities = [cosine_similarity(keyword_embedding, np.array(tag_embedding).reshape(1, -1))[0][0] for tag_embedding in tag_embeddings]\n",
    "            \n",
    "            # Filter hashtags with similarity above a certain threshold (e.g., 0.5)\n",
    "            relevant_tags = [tags[i] for i in range(len(tags)) if similarities[i] > 0.5]\n",
    "            \n",
    "            return relevant_tags\n",
    "        \n",
    "        def clean_tags(text):\n",
    "            # 한글, 영어, 숫자, '#'을 제외한 나머지 문자 제거\n",
    "            return re.findall(r'#[A-Za-z0-9가-힣]+', text)\n",
    "        \n",
    "        # 파일 읽기\n",
    "        file_path = f\"./인스타그램 데이터/{city}{category}_crawling.xlsx\"  # 파일 경로를 적절히 변경해주세요.\n",
    "        df = pd.read_excel(file_path)\n",
    "        print(f\" '{city}{category}' 파일불러오기 완료.\")\n",
    "\n",
    "        # Get the embedding for the keyword '뉴욕관광'\n",
    "        keyword_embedding = get_embedding(f'{city}{category}')\n",
    "        keyword_embedding = np.array(keyword_embedding).reshape(1, -1)  # Reshape to 2D for cosine similarity\n",
    "        \n",
    "        # 1. content 컬럼에서 조사, 접속사, 이모티콘 제거 적용\n",
    "        df['cleaned_content'] = df['content'].apply(lambda x: clean_korean_text(x))\n",
    "        \n",
    "        # 2. 조사, 접속사 제거된 텍스트에서 청킹 적용 (명사, 형용사, 동사만 남김)\n",
    "        df['chunked_content'] = df['cleaned_content'].apply(lambda x: chunk_korean_text(x))\n",
    "        \n",
    "        df['cleaned_tags'] = df['tags'].apply(clean_tags)\n",
    "        \n",
    "        # Activate tqdm for pandas and apply the function to each post, with caching\n",
    "        tqdm.pandas()\n",
    "        df['relevant_hashtags'] = df['cleaned_tags'].progress_apply(lambda tags: get_relevant_hashtags(tags))\n",
    "        \n",
    "         # 3. CSV 파일로 저장 (필터링된 청킹된 본문 및 해시태그)\n",
    "        output_file = f'{city}{category}_인스타그램_최종.csv'\n",
    "        df[['chunked_content', 'place', 'relevant_hashtags']].to_csv(output_file, index=False, encoding='utf-8-sig')\n",
    "        \n",
    "        print(f\" '{output_file}' 파일로 저장 완료.\")\n",
    "        print()"
   ]
  }
 ],
 "metadata": {
  "kernelspec": {
   "display_name": "Python 3 (ipykernel)",
   "language": "python",
   "name": "python3"
  },
  "language_info": {
   "codemirror_mode": {
    "name": "ipython",
    "version": 3
   },
   "file_extension": ".py",
   "mimetype": "text/x-python",
   "name": "python",
   "nbconvert_exporter": "python",
   "pygments_lexer": "ipython3",
   "version": "3.11.7"
  }
 },
 "nbformat": 4,
 "nbformat_minor": 5
}
